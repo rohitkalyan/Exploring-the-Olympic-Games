{
 "cells": [
  {
   "cell_type": "markdown",
   "id": "5bd37d39",
   "metadata": {},
   "source": [
    " Summary\n",
    " 1. Introduction\n",
    " 2. Project Task\n",
    " 3. Data Source\n",
    " 4. Data Exploration And Preprocessing\n",
    " 5. Data Analysis:\n",
    " All Modern Olympic Seasons\n",
    " First Modern Olympic Season(1896)\n",
    " Modern Olympic Seasons hosted in france\n",
    " Analysis Report: Modern Olympic Games(1896-2016)"
   ]
  },
  {
   "cell_type": "markdown",
   "id": "c2c7684e",
   "metadata": {},
   "source": [
    "Introduction\n",
    " The Olympic Games, a prestigious international sporting event, bring together athletes from around the world to compete in various sports.\n",
    " Originating in ancient Greece, the Olympics were revived in the late 19th century, marking the beginning of the modern Olympic era. Held every\n",
    " four years, the modern Olympic Games alternate between Summer and Winter editions, showcasing the pinnacle of athletic achievement. This\n",
    " project aims to explore key aspects of the modern Olympics, including historical timelines, participation trends, athlete demographics, and\n",
    " country performances, providing a comprehensive analysis of their evolution and impact on the global sporting landscape.\n",
    " "
   ]
  },
  {
   "cell_type": "markdown",
   "id": "e4acff53",
   "metadata": {},
   "source": [
    "project Task\n",
    " **\n",
    "\n",
    " 1- List the seasons, years of the modern olympics games, and cities that hosted these games.\n",
    " 2- Which city hosted the modern olymopics the most?\n",
    " 3- How has the number of participating athletes evolved over the years?\n",
    " 4- Which seasons has the http://localhost:8888/notebooks/MyWorkSpace/ML/%20Data%20Analysis%20of%20the%20Olympic%20Games%20with%20Python.ipynb#highest and lowest participation and in which cities were them held?\n",
    " 5- Which country has won the most total medals and gold medals across all Olympic seasons??\n",
    " 6- What's the average of age, weight and height by sport and gender across all seasons?\n",
    " 7- Which sport event was the most popular across all the seasons, and who won the most medals in this sport?\n",
    " 8 - How many countries and athletes participated in the rst season?\n",
    " 9- List the different sports and their events on the rst season.\n",
    " 10- Which country won the most medals , and who won gold medals in the rst season?\n",
    " 11- What's the average of age, weight and height by sports and gender on the rst modern olympic season?\n",
    " 12- When were the modern olympics held in France, and in which cities?\n",
    " 13- How many countries and athletes ( by gender) participated in the modern Olympic games held in each French city, for each season?\n",
    " 14- Which country won the most medals in France's modern olympic games by season?.\n",
    " 15- Which sport event was the most popular across all French Olympic seasons, and who won the most gold medals in this event?"
   ]
  },
  {
   "cell_type": "markdown",
   "id": "7d0ea208",
   "metadata": {},
   "source": [
    " Data Source\n",
    " We will use the Kaggle olympic dataset \n",
    "Data Exploration and processing\n",
    " athlete_events.csv"
   ]
  },
  {
   "cell_type": "code",
   "execution_count": 1,
   "id": "57fa21c8",
   "metadata": {},
   "outputs": [],
   "source": [
    "import pandas as pd\n",
    "import matplotlib.pyplot as plt\n",
    "import numpy as np\n",
    "import seaborn as sns"
   ]
  },
  {
   "cell_type": "code",
   "execution_count": 2,
   "id": "985cd7ab",
   "metadata": {},
   "outputs": [],
   "source": [
    "olympics = pd.read_csv(\"C:/MyWork/CsvFiles/ML_CSV/athlete_events.csv\")"
   ]
  },
  {
   "cell_type": "code",
   "execution_count": 3,
   "id": "4302773c",
   "metadata": {},
   "outputs": [
    {
     "data": {
      "text/plain": [
       "(271116, 15)"
      ]
     },
     "execution_count": 3,
     "metadata": {},
     "output_type": "execute_result"
    }
   ],
   "source": [
    "olympics.shape # (Rows, Columns)"
   ]
  },
  {
   "cell_type": "code",
   "execution_count": 4,
   "id": "d576a595",
   "metadata": {},
   "outputs": [
    {
     "data": {
      "text/html": [
       "<div>\n",
       "<style scoped>\n",
       "    .dataframe tbody tr th:only-of-type {\n",
       "        vertical-align: middle;\n",
       "    }\n",
       "\n",
       "    .dataframe tbody tr th {\n",
       "        vertical-align: top;\n",
       "    }\n",
       "\n",
       "    .dataframe thead th {\n",
       "        text-align: right;\n",
       "    }\n",
       "</style>\n",
       "<table border=\"1\" class=\"dataframe\">\n",
       "  <thead>\n",
       "    <tr style=\"text-align: right;\">\n",
       "      <th></th>\n",
       "      <th>ID</th>\n",
       "      <th>Name</th>\n",
       "      <th>Sex</th>\n",
       "      <th>Age</th>\n",
       "      <th>Height</th>\n",
       "      <th>Weight</th>\n",
       "      <th>Team</th>\n",
       "      <th>NOC</th>\n",
       "      <th>Games</th>\n",
       "      <th>Year</th>\n",
       "      <th>Season</th>\n",
       "      <th>City</th>\n",
       "      <th>Sport</th>\n",
       "      <th>Event</th>\n",
       "      <th>Medal</th>\n",
       "    </tr>\n",
       "  </thead>\n",
       "  <tbody>\n",
       "    <tr>\n",
       "      <th>0</th>\n",
       "      <td>1</td>\n",
       "      <td>A Dijiang</td>\n",
       "      <td>M</td>\n",
       "      <td>24.0</td>\n",
       "      <td>180.0</td>\n",
       "      <td>80.0</td>\n",
       "      <td>China</td>\n",
       "      <td>CHN</td>\n",
       "      <td>1992 Summer</td>\n",
       "      <td>1992</td>\n",
       "      <td>Summer</td>\n",
       "      <td>Barcelona</td>\n",
       "      <td>Basketball</td>\n",
       "      <td>Basketball Men's Basketball</td>\n",
       "      <td>NaN</td>\n",
       "    </tr>\n",
       "    <tr>\n",
       "      <th>1</th>\n",
       "      <td>2</td>\n",
       "      <td>A Lamusi</td>\n",
       "      <td>M</td>\n",
       "      <td>23.0</td>\n",
       "      <td>170.0</td>\n",
       "      <td>60.0</td>\n",
       "      <td>China</td>\n",
       "      <td>CHN</td>\n",
       "      <td>2012 Summer</td>\n",
       "      <td>2012</td>\n",
       "      <td>Summer</td>\n",
       "      <td>London</td>\n",
       "      <td>Judo</td>\n",
       "      <td>Judo Men's Extra-Lightweight</td>\n",
       "      <td>NaN</td>\n",
       "    </tr>\n",
       "  </tbody>\n",
       "</table>\n",
       "</div>"
      ],
      "text/plain": [
       "   ID       Name Sex   Age  Height  Weight   Team  NOC        Games  Year  \\\n",
       "0   1  A Dijiang   M  24.0   180.0    80.0  China  CHN  1992 Summer  1992   \n",
       "1   2   A Lamusi   M  23.0   170.0    60.0  China  CHN  2012 Summer  2012   \n",
       "\n",
       "   Season       City       Sport                         Event Medal  \n",
       "0  Summer  Barcelona  Basketball   Basketball Men's Basketball   NaN  \n",
       "1  Summer     London        Judo  Judo Men's Extra-Lightweight   NaN  "
      ]
     },
     "execution_count": 4,
     "metadata": {},
     "output_type": "execute_result"
    }
   ],
   "source": [
    "olympics.head(2)"
   ]
  },
  {
   "cell_type": "code",
   "execution_count": 5,
   "id": "f8691fa7",
   "metadata": {},
   "outputs": [
    {
     "data": {
      "text/html": [
       "<div>\n",
       "<style scoped>\n",
       "    .dataframe tbody tr th:only-of-type {\n",
       "        vertical-align: middle;\n",
       "    }\n",
       "\n",
       "    .dataframe tbody tr th {\n",
       "        vertical-align: top;\n",
       "    }\n",
       "\n",
       "    .dataframe thead th {\n",
       "        text-align: right;\n",
       "    }\n",
       "</style>\n",
       "<table border=\"1\" class=\"dataframe\">\n",
       "  <thead>\n",
       "    <tr style=\"text-align: right;\">\n",
       "      <th></th>\n",
       "      <th>ID</th>\n",
       "      <th>Name</th>\n",
       "      <th>Sex</th>\n",
       "      <th>Age</th>\n",
       "      <th>Height</th>\n",
       "      <th>Weight</th>\n",
       "      <th>Team</th>\n",
       "      <th>NOC</th>\n",
       "      <th>Games</th>\n",
       "      <th>Year</th>\n",
       "      <th>Season</th>\n",
       "      <th>City</th>\n",
       "      <th>Sport</th>\n",
       "      <th>Event</th>\n",
       "      <th>Medal</th>\n",
       "    </tr>\n",
       "  </thead>\n",
       "  <tbody>\n",
       "    <tr>\n",
       "      <th>271113</th>\n",
       "      <td>135570</td>\n",
       "      <td>Piotr ya</td>\n",
       "      <td>M</td>\n",
       "      <td>27.0</td>\n",
       "      <td>176.0</td>\n",
       "      <td>59.0</td>\n",
       "      <td>Poland</td>\n",
       "      <td>POL</td>\n",
       "      <td>2014 Winter</td>\n",
       "      <td>2014</td>\n",
       "      <td>Winter</td>\n",
       "      <td>Sochi</td>\n",
       "      <td>Ski Jumping</td>\n",
       "      <td>Ski Jumping Men's Large Hill, Team</td>\n",
       "      <td>NaN</td>\n",
       "    </tr>\n",
       "    <tr>\n",
       "      <th>271114</th>\n",
       "      <td>135571</td>\n",
       "      <td>Tomasz Ireneusz ya</td>\n",
       "      <td>M</td>\n",
       "      <td>30.0</td>\n",
       "      <td>185.0</td>\n",
       "      <td>96.0</td>\n",
       "      <td>Poland</td>\n",
       "      <td>POL</td>\n",
       "      <td>1998 Winter</td>\n",
       "      <td>1998</td>\n",
       "      <td>Winter</td>\n",
       "      <td>Nagano</td>\n",
       "      <td>Bobsleigh</td>\n",
       "      <td>Bobsleigh Men's Four</td>\n",
       "      <td>NaN</td>\n",
       "    </tr>\n",
       "    <tr>\n",
       "      <th>271115</th>\n",
       "      <td>135571</td>\n",
       "      <td>Tomasz Ireneusz ya</td>\n",
       "      <td>M</td>\n",
       "      <td>34.0</td>\n",
       "      <td>185.0</td>\n",
       "      <td>96.0</td>\n",
       "      <td>Poland</td>\n",
       "      <td>POL</td>\n",
       "      <td>2002 Winter</td>\n",
       "      <td>2002</td>\n",
       "      <td>Winter</td>\n",
       "      <td>Salt Lake City</td>\n",
       "      <td>Bobsleigh</td>\n",
       "      <td>Bobsleigh Men's Four</td>\n",
       "      <td>NaN</td>\n",
       "    </tr>\n",
       "  </tbody>\n",
       "</table>\n",
       "</div>"
      ],
      "text/plain": [
       "            ID                Name Sex   Age  Height  Weight    Team  NOC  \\\n",
       "271113  135570            Piotr ya   M  27.0   176.0    59.0  Poland  POL   \n",
       "271114  135571  Tomasz Ireneusz ya   M  30.0   185.0    96.0  Poland  POL   \n",
       "271115  135571  Tomasz Ireneusz ya   M  34.0   185.0    96.0  Poland  POL   \n",
       "\n",
       "              Games  Year  Season            City        Sport  \\\n",
       "271113  2014 Winter  2014  Winter           Sochi  Ski Jumping   \n",
       "271114  1998 Winter  1998  Winter          Nagano    Bobsleigh   \n",
       "271115  2002 Winter  2002  Winter  Salt Lake City    Bobsleigh   \n",
       "\n",
       "                                     Event Medal  \n",
       "271113  Ski Jumping Men's Large Hill, Team   NaN  \n",
       "271114                Bobsleigh Men's Four   NaN  \n",
       "271115                Bobsleigh Men's Four   NaN  "
      ]
     },
     "execution_count": 5,
     "metadata": {},
     "output_type": "execute_result"
    }
   ],
   "source": [
    "olympics.tail(3)"
   ]
  },
  {
   "cell_type": "code",
   "execution_count": 6,
   "id": "92c82d5e",
   "metadata": {},
   "outputs": [
    {
     "name": "stdout",
     "output_type": "stream",
     "text": [
      "<class 'pandas.core.frame.DataFrame'>\n",
      "RangeIndex: 271116 entries, 0 to 271115\n",
      "Data columns (total 15 columns):\n",
      " #   Column  Non-Null Count   Dtype  \n",
      "---  ------  --------------   -----  \n",
      " 0   ID      271116 non-null  int64  \n",
      " 1   Name    271116 non-null  object \n",
      " 2   Sex     271116 non-null  object \n",
      " 3   Age     261642 non-null  float64\n",
      " 4   Height  210945 non-null  float64\n",
      " 5   Weight  208241 non-null  float64\n",
      " 6   Team    271116 non-null  object \n",
      " 7   NOC     271116 non-null  object \n",
      " 8   Games   271116 non-null  object \n",
      " 9   Year    271116 non-null  int64  \n",
      " 10  Season  271116 non-null  object \n",
      " 11  City    271116 non-null  object \n",
      " 12  Sport   271116 non-null  object \n",
      " 13  Event   271116 non-null  object \n",
      " 14  Medal   39783 non-null   object \n",
      "dtypes: float64(3), int64(2), object(10)\n",
      "memory usage: 31.0+ MB\n"
     ]
    }
   ],
   "source": [
    "olympics.info()"
   ]
  },
  {
   "cell_type": "code",
   "execution_count": 7,
   "id": "28ed3fea",
   "metadata": {},
   "outputs": [
    {
     "data": {
      "text/html": [
       "<div>\n",
       "<style scoped>\n",
       "    .dataframe tbody tr th:only-of-type {\n",
       "        vertical-align: middle;\n",
       "    }\n",
       "\n",
       "    .dataframe tbody tr th {\n",
       "        vertical-align: top;\n",
       "    }\n",
       "\n",
       "    .dataframe thead th {\n",
       "        text-align: right;\n",
       "    }\n",
       "</style>\n",
       "<table border=\"1\" class=\"dataframe\">\n",
       "  <thead>\n",
       "    <tr style=\"text-align: right;\">\n",
       "      <th></th>\n",
       "      <th>ID</th>\n",
       "      <th>Age</th>\n",
       "      <th>Height</th>\n",
       "      <th>Weight</th>\n",
       "      <th>Year</th>\n",
       "    </tr>\n",
       "  </thead>\n",
       "  <tbody>\n",
       "    <tr>\n",
       "      <th>count</th>\n",
       "      <td>271116.000000</td>\n",
       "      <td>261642.000000</td>\n",
       "      <td>210945.000000</td>\n",
       "      <td>208241.000000</td>\n",
       "      <td>271116.000000</td>\n",
       "    </tr>\n",
       "    <tr>\n",
       "      <th>mean</th>\n",
       "      <td>68248.954396</td>\n",
       "      <td>25.556898</td>\n",
       "      <td>175.338970</td>\n",
       "      <td>70.702393</td>\n",
       "      <td>1978.378480</td>\n",
       "    </tr>\n",
       "    <tr>\n",
       "      <th>std</th>\n",
       "      <td>39022.286345</td>\n",
       "      <td>6.393561</td>\n",
       "      <td>10.518462</td>\n",
       "      <td>14.348020</td>\n",
       "      <td>29.877632</td>\n",
       "    </tr>\n",
       "    <tr>\n",
       "      <th>min</th>\n",
       "      <td>1.000000</td>\n",
       "      <td>10.000000</td>\n",
       "      <td>127.000000</td>\n",
       "      <td>25.000000</td>\n",
       "      <td>1896.000000</td>\n",
       "    </tr>\n",
       "    <tr>\n",
       "      <th>25%</th>\n",
       "      <td>34643.000000</td>\n",
       "      <td>21.000000</td>\n",
       "      <td>168.000000</td>\n",
       "      <td>60.000000</td>\n",
       "      <td>1960.000000</td>\n",
       "    </tr>\n",
       "    <tr>\n",
       "      <th>50%</th>\n",
       "      <td>68205.000000</td>\n",
       "      <td>24.000000</td>\n",
       "      <td>175.000000</td>\n",
       "      <td>70.000000</td>\n",
       "      <td>1988.000000</td>\n",
       "    </tr>\n",
       "    <tr>\n",
       "      <th>75%</th>\n",
       "      <td>102097.250000</td>\n",
       "      <td>28.000000</td>\n",
       "      <td>183.000000</td>\n",
       "      <td>79.000000</td>\n",
       "      <td>2002.000000</td>\n",
       "    </tr>\n",
       "    <tr>\n",
       "      <th>max</th>\n",
       "      <td>135571.000000</td>\n",
       "      <td>97.000000</td>\n",
       "      <td>226.000000</td>\n",
       "      <td>214.000000</td>\n",
       "      <td>2016.000000</td>\n",
       "    </tr>\n",
       "  </tbody>\n",
       "</table>\n",
       "</div>"
      ],
      "text/plain": [
       "                  ID            Age         Height         Weight  \\\n",
       "count  271116.000000  261642.000000  210945.000000  208241.000000   \n",
       "mean    68248.954396      25.556898     175.338970      70.702393   \n",
       "std     39022.286345       6.393561      10.518462      14.348020   \n",
       "min         1.000000      10.000000     127.000000      25.000000   \n",
       "25%     34643.000000      21.000000     168.000000      60.000000   \n",
       "50%     68205.000000      24.000000     175.000000      70.000000   \n",
       "75%    102097.250000      28.000000     183.000000      79.000000   \n",
       "max    135571.000000      97.000000     226.000000     214.000000   \n",
       "\n",
       "                Year  \n",
       "count  271116.000000  \n",
       "mean     1978.378480  \n",
       "std        29.877632  \n",
       "min      1896.000000  \n",
       "25%      1960.000000  \n",
       "50%      1988.000000  \n",
       "75%      2002.000000  \n",
       "max      2016.000000  "
      ]
     },
     "execution_count": 7,
     "metadata": {},
     "output_type": "execute_result"
    }
   ],
   "source": [
    "olympics.describe()"
   ]
  },
  {
   "cell_type": "code",
   "execution_count": 8,
   "id": "db6cda01",
   "metadata": {},
   "outputs": [
    {
     "name": "stdout",
     "output_type": "stream",
     "text": [
      "Mode of column 'ID': [77710]\n",
      "Mode of column 'Name': ['Robert Tait McKenzie']\n",
      "Mode of column 'Sex': ['M']\n",
      "Mode of column 'Age': [23.]\n",
      "Mode of column 'Height': [180.]\n",
      "Mode of column 'Weight': [70.]\n",
      "Mode of column 'Team': ['United States']\n",
      "Mode of column 'NOC': ['USA']\n",
      "Mode of column 'Games': ['2000 Summer']\n",
      "Mode of column 'Year': [1992]\n",
      "Mode of column 'Season': ['Summer']\n",
      "Mode of column 'City': ['London']\n",
      "Mode of column 'Sport': ['Athletics']\n",
      "Mode of column 'Event': [\"Football Men's Football\"]\n",
      "Mode of column 'Medal': ['Gold']\n"
     ]
    }
   ],
   "source": [
    "# mode for each columns:\n",
    "mode_df = olympics.mode()\n",
    "    \n",
    " # Print the mode for each column\n",
    "for column in mode_df.columns:\n",
    "    print(f\"Mode of column '{column}': {mode_df[column].values}\")"
   ]
  },
  {
   "cell_type": "code",
   "execution_count": 9,
   "id": "34eab3fa",
   "metadata": {},
   "outputs": [
    {
     "data": {
      "text/plain": [
       "1385"
      ]
     },
     "execution_count": 9,
     "metadata": {},
     "output_type": "execute_result"
    }
   ],
   "source": [
    "# duplicated data:\n",
    "olympics.duplicated().sum()"
   ]
  },
  {
   "cell_type": "code",
   "execution_count": 10,
   "id": "c7589625",
   "metadata": {},
   "outputs": [
    {
     "data": {
      "text/plain": [
       "ID             0\n",
       "Name           0\n",
       "Sex            0\n",
       "Age         9474\n",
       "Height     60171\n",
       "Weight     62875\n",
       "Team           0\n",
       "NOC            0\n",
       "Games          0\n",
       "Year           0\n",
       "Season         0\n",
       "City           0\n",
       "Sport          0\n",
       "Event          0\n",
       "Medal     231333\n",
       "dtype: int64"
      ]
     },
     "execution_count": 10,
     "metadata": {},
     "output_type": "execute_result"
    }
   ],
   "source": [
    "# missing values:\n",
    "olympics.isnull().sum()"
   ]
  },
  {
   "cell_type": "code",
   "execution_count": 11,
   "id": "d4299f97",
   "metadata": {},
   "outputs": [
    {
     "data": {
      "text/plain": [
       "ID         0.000000\n",
       "Name       0.000000\n",
       "Sex        0.000000\n",
       "Age        3.494445\n",
       "Height    22.193821\n",
       "Weight    23.191180\n",
       "Team       0.000000\n",
       "NOC        0.000000\n",
       "Games      0.000000\n",
       "Year       0.000000\n",
       "Season     0.000000\n",
       "City       0.000000\n",
       "Sport      0.000000\n",
       "Event      0.000000\n",
       "Medal     85.326207\n",
       "dtype: float64"
      ]
     },
     "execution_count": 11,
     "metadata": {},
     "output_type": "execute_result"
    }
   ],
   "source": [
    "# % of missing values:\n",
    "olympics.isnull().sum()/olympics.shape[0]*100"
   ]
  },
  {
   "cell_type": "code",
   "execution_count": 12,
   "id": "0a6f0f0d",
   "metadata": {},
   "outputs": [
    {
     "data": {
      "text/plain": [
       "<AxesSubplot: xlabel='Age', ylabel='Count'>"
      ]
     },
     "execution_count": 12,
     "metadata": {},
     "output_type": "execute_result"
    },
    {
     "data": {
      "image/png": "[encoded data removed]",
      "text/plain": [
       "<Figure size 640x480 with 1 Axes>"
      ]
     },
     "metadata": {},
     "output_type": "display_data"
    }
   ],
   "source": [
    "# age distribution:\n",
    "sns.histplot(olympics['Age'],bins=30, kde=True)"
   ]
  },
  {
   "cell_type": "code",
   "execution_count": 13,
   "id": "9fd744d2",
   "metadata": {},
   "outputs": [
    {
     "data": {
      "text/plain": [
       "<AxesSubplot: xlabel='Weight', ylabel='Count'>"
      ]
     },
     "execution_count": 13,
     "metadata": {},
     "output_type": "execute_result"
    },
    {
     "data": {
      "image/png": "[encoded data removed]",
      "text/plain": [
       "<Figure size 640x480 with 1 Axes>"
      ]
     },
     "metadata": {},
     "output_type": "display_data"
    }
   ],
   "source": [
    "# weight distribution:\n",
    "sns.histplot(olympics['Weight'],bins=30, kde=True)"
   ]
  },
  {
   "cell_type": "code",
   "execution_count": 14,
   "id": "4068c15b",
   "metadata": {},
   "outputs": [
    {
     "data": {
      "text/html": [
       "<div>\n",
       "<style scoped>\n",
       "    .dataframe tbody tr th:only-of-type {\n",
       "        vertical-align: middle;\n",
       "    }\n",
       "\n",
       "    .dataframe tbody tr th {\n",
       "        vertical-align: top;\n",
       "    }\n",
       "\n",
       "    .dataframe thead th {\n",
       "        text-align: right;\n",
       "    }\n",
       "</style>\n",
       "<table border=\"1\" class=\"dataframe\">\n",
       "  <thead>\n",
       "    <tr style=\"text-align: right;\">\n",
       "      <th></th>\n",
       "      <th>ID</th>\n",
       "      <th>Name</th>\n",
       "      <th>Sex</th>\n",
       "      <th>Age</th>\n",
       "      <th>Height</th>\n",
       "      <th>Weight</th>\n",
       "      <th>Team</th>\n",
       "      <th>NOC</th>\n",
       "      <th>Games</th>\n",
       "      <th>Year</th>\n",
       "      <th>Season</th>\n",
       "      <th>City</th>\n",
       "      <th>Sport</th>\n",
       "      <th>Event</th>\n",
       "      <th>Medal</th>\n",
       "    </tr>\n",
       "  </thead>\n",
       "  <tbody>\n",
       "    <tr>\n",
       "      <th>1252</th>\n",
       "      <td>704</td>\n",
       "      <td>Dsir Antoine Acket</td>\n",
       "      <td>M</td>\n",
       "      <td>27.0</td>\n",
       "      <td>NaN</td>\n",
       "      <td>NaN</td>\n",
       "      <td>Belgium</td>\n",
       "      <td>BEL</td>\n",
       "      <td>1932 Summer</td>\n",
       "      <td>1932</td>\n",
       "      <td>Summer</td>\n",
       "      <td>Los Angeles</td>\n",
       "      <td>Art Competitions</td>\n",
       "      <td>Art Competitions Mixed Painting, Unknown Event</td>\n",
       "      <td>NaN</td>\n",
       "    </tr>\n",
       "    <tr>\n",
       "      <th>4282</th>\n",
       "      <td>2449</td>\n",
       "      <td>William Truman Aldrich</td>\n",
       "      <td>M</td>\n",
       "      <td>48.0</td>\n",
       "      <td>NaN</td>\n",
       "      <td>NaN</td>\n",
       "      <td>United States</td>\n",
       "      <td>USA</td>\n",
       "      <td>1928 Summer</td>\n",
       "      <td>1928</td>\n",
       "      <td>Summer</td>\n",
       "      <td>Amsterdam</td>\n",
       "      <td>Art Competitions</td>\n",
       "      <td>Art Competitions Mixed Painting, Drawings And ...</td>\n",
       "      <td>NaN</td>\n",
       "    </tr>\n",
       "    <tr>\n",
       "      <th>4283</th>\n",
       "      <td>2449</td>\n",
       "      <td>William Truman Aldrich</td>\n",
       "      <td>M</td>\n",
       "      <td>48.0</td>\n",
       "      <td>NaN</td>\n",
       "      <td>NaN</td>\n",
       "      <td>United States</td>\n",
       "      <td>USA</td>\n",
       "      <td>1928 Summer</td>\n",
       "      <td>1928</td>\n",
       "      <td>Summer</td>\n",
       "      <td>Amsterdam</td>\n",
       "      <td>Art Competitions</td>\n",
       "      <td>Art Competitions Mixed Painting, Drawings And ...</td>\n",
       "      <td>NaN</td>\n",
       "    </tr>\n",
       "  </tbody>\n",
       "</table>\n",
       "</div>"
      ],
      "text/plain": [
       "        ID                    Name Sex   Age  Height  Weight           Team  \\\n",
       "1252   704      Dsir Antoine Acket   M  27.0     NaN     NaN        Belgium   \n",
       "4282  2449  William Truman Aldrich   M  48.0     NaN     NaN  United States   \n",
       "4283  2449  William Truman Aldrich   M  48.0     NaN     NaN  United States   \n",
       "\n",
       "      NOC        Games  Year  Season         City             Sport  \\\n",
       "1252  BEL  1932 Summer  1932  Summer  Los Angeles  Art Competitions   \n",
       "4282  USA  1928 Summer  1928  Summer    Amsterdam  Art Competitions   \n",
       "4283  USA  1928 Summer  1928  Summer    Amsterdam  Art Competitions   \n",
       "\n",
       "                                                  Event Medal  \n",
       "1252     Art Competitions Mixed Painting, Unknown Event   NaN  \n",
       "4282  Art Competitions Mixed Painting, Drawings And ...   NaN  \n",
       "4283  Art Competitions Mixed Painting, Drawings And ...   NaN  "
      ]
     },
     "execution_count": 14,
     "metadata": {},
     "output_type": "execute_result"
    }
   ],
   "source": [
    "# display duplicated rows first 3:\n",
    "olympics[olympics.duplicated()].head(3)"
   ]
  },
  {
   "cell_type": "code",
   "execution_count": 15,
   "id": "be30ab77",
   "metadata": {},
   "outputs": [],
   "source": [
    "# Remove Duplicted Data:\n",
    "olympics.drop_duplicates(inplace = True)"
   ]
  },
  {
   "cell_type": "code",
   "execution_count": 16,
   "id": "ee600bed",
   "metadata": {},
   "outputs": [
    {
     "data": {
      "text/plain": [
       "0"
      ]
     },
     "execution_count": 16,
     "metadata": {},
     "output_type": "execute_result"
    }
   ],
   "source": [
    "# check the duplicated data:\n",
    "olympics.duplicated().sum()"
   ]
  },
  {
   "cell_type": "code",
   "execution_count": 17,
   "id": "761c5b91",
   "metadata": {},
   "outputs": [],
   "source": [
    "olympics['Age'].fillna(olympics['Age'].median(), inplace=True)\n",
    "olympics['Height'].fillna(olympics['Height'].median(), inplace=True)\n",
    "olympics['Weight'].fillna(olympics['Weight'].mean(), inplace=True)\n",
    "olympics['Medal'].fillna('0', inplace=True)"
   ]
  },
  {
   "cell_type": "code",
   "execution_count": 18,
   "id": "9babb208",
   "metadata": {},
   "outputs": [
    {
     "data": {
      "text/plain": [
       "ID        0\n",
       "Name      0\n",
       "Sex       0\n",
       "Age       0\n",
       "Height    0\n",
       "Weight    0\n",
       "Team      0\n",
       "NOC       0\n",
       "Games     0\n",
       "Year      0\n",
       "Season    0\n",
       "City      0\n",
       "Sport     0\n",
       "Event     0\n",
       "Medal     0\n",
       "dtype: int64"
      ]
     },
     "execution_count": 18,
     "metadata": {},
     "output_type": "execute_result"
    }
   ],
   "source": [
    "olympics.isnull().sum()"
   ]
  },
  {
   "cell_type": "code",
   "execution_count": 19,
   "id": "f2a4788d",
   "metadata": {},
   "outputs": [
    {
     "data": {
      "text/html": [
       "<div>\n",
       "<style scoped>\n",
       "    .dataframe tbody tr th:only-of-type {\n",
       "        vertical-align: middle;\n",
       "    }\n",
       "\n",
       "    .dataframe tbody tr th {\n",
       "        vertical-align: top;\n",
       "    }\n",
       "\n",
       "    .dataframe thead th {\n",
       "        text-align: right;\n",
       "    }\n",
       "</style>\n",
       "<table border=\"1\" class=\"dataframe\">\n",
       "  <thead>\n",
       "    <tr style=\"text-align: right;\">\n",
       "      <th></th>\n",
       "      <th>ID</th>\n",
       "      <th>Age</th>\n",
       "      <th>Height</th>\n",
       "      <th>Weight</th>\n",
       "      <th>Year</th>\n",
       "    </tr>\n",
       "  </thead>\n",
       "  <tbody>\n",
       "    <tr>\n",
       "      <th>count</th>\n",
       "      <td>269731.000000</td>\n",
       "      <td>269731.000000</td>\n",
       "      <td>269731.000000</td>\n",
       "      <td>269731.000000</td>\n",
       "      <td>269731.000000</td>\n",
       "    </tr>\n",
       "    <tr>\n",
       "      <th>mean</th>\n",
       "      <td>68264.949591</td>\n",
       "      <td>25.404536</td>\n",
       "      <td>175.265046</td>\n",
       "      <td>70.701778</td>\n",
       "      <td>1978.623073</td>\n",
       "    </tr>\n",
       "    <tr>\n",
       "      <th>std</th>\n",
       "      <td>39026.253843</td>\n",
       "      <td>6.062324</td>\n",
       "      <td>9.302366</td>\n",
       "      <td>12.606697</td>\n",
       "      <td>29.752055</td>\n",
       "    </tr>\n",
       "    <tr>\n",
       "      <th>min</th>\n",
       "      <td>1.000000</td>\n",
       "      <td>10.000000</td>\n",
       "      <td>127.000000</td>\n",
       "      <td>25.000000</td>\n",
       "      <td>1896.000000</td>\n",
       "    </tr>\n",
       "    <tr>\n",
       "      <th>25%</th>\n",
       "      <td>34655.500000</td>\n",
       "      <td>22.000000</td>\n",
       "      <td>170.000000</td>\n",
       "      <td>63.000000</td>\n",
       "      <td>1960.000000</td>\n",
       "    </tr>\n",
       "    <tr>\n",
       "      <th>50%</th>\n",
       "      <td>68233.000000</td>\n",
       "      <td>24.000000</td>\n",
       "      <td>175.000000</td>\n",
       "      <td>70.701778</td>\n",
       "      <td>1988.000000</td>\n",
       "    </tr>\n",
       "    <tr>\n",
       "      <th>75%</th>\n",
       "      <td>102111.000000</td>\n",
       "      <td>28.000000</td>\n",
       "      <td>180.000000</td>\n",
       "      <td>76.000000</td>\n",
       "      <td>2002.000000</td>\n",
       "    </tr>\n",
       "    <tr>\n",
       "      <th>max</th>\n",
       "      <td>135571.000000</td>\n",
       "      <td>97.000000</td>\n",
       "      <td>226.000000</td>\n",
       "      <td>214.000000</td>\n",
       "      <td>2016.000000</td>\n",
       "    </tr>\n",
       "  </tbody>\n",
       "</table>\n",
       "</div>"
      ],
      "text/plain": [
       "                  ID            Age         Height         Weight  \\\n",
       "count  269731.000000  269731.000000  269731.000000  269731.000000   \n",
       "mean    68264.949591      25.404536     175.265046      70.701778   \n",
       "std     39026.253843       6.062324       9.302366      12.606697   \n",
       "min         1.000000      10.000000     127.000000      25.000000   \n",
       "25%     34655.500000      22.000000     170.000000      63.000000   \n",
       "50%     68233.000000      24.000000     175.000000      70.701778   \n",
       "75%    102111.000000      28.000000     180.000000      76.000000   \n",
       "max    135571.000000      97.000000     226.000000     214.000000   \n",
       "\n",
       "                Year  \n",
       "count  269731.000000  \n",
       "mean     1978.623073  \n",
       "std        29.752055  \n",
       "min      1896.000000  \n",
       "25%      1960.000000  \n",
       "50%      1988.000000  \n",
       "75%      2002.000000  \n",
       "max      2016.000000  "
      ]
     },
     "execution_count": 19,
     "metadata": {},
     "output_type": "execute_result"
    }
   ],
   "source": [
    "olympics.describe()"
   ]
  },
  {
   "cell_type": "code",
   "execution_count": 20,
   "id": "14a2ecd1",
   "metadata": {},
   "outputs": [
    {
     "name": "stdout",
     "output_type": "stream",
     "text": [
      "Mode of column 'ID': [106296]\n",
      "Mode of column 'Name': ['Heikki Ilmari Savolainen']\n",
      "Mode of column 'Sex': ['M']\n",
      "Mode of column 'Age': [24.]\n",
      "Mode of column 'Height': [175.]\n",
      "Mode of column 'Weight': [70.70177806]\n",
      "Mode of column 'Team': ['United States']\n",
      "Mode of column 'NOC': ['USA']\n",
      "Mode of column 'Games': ['2000 Summer']\n",
      "Mode of column 'Year': [1992]\n",
      "Mode of column 'Season': ['Summer']\n",
      "Mode of column 'City': ['London']\n",
      "Mode of column 'Sport': ['Athletics']\n",
      "Mode of column 'Event': [\"Football Men's Football\"]\n",
      "Mode of column 'Medal': ['0']\n"
     ]
    }
   ],
   "source": [
    "# mode of columns post processing:\n",
    " # mode for each columns:\n",
    "mode_df = olympics.mode()\n",
    " # Print the mode for each column\n",
    "for column in mode_df.columns:\n",
    "    print(f\"Mode of column '{column}': {mode_df[column].values}\")"
   ]
  },
  {
   "cell_type": "code",
   "execution_count": 21,
   "id": "dec5d187",
   "metadata": {},
   "outputs": [
    {
     "data": {
      "text/plain": [
       "array(['Summer', 'Winter'], dtype=object)"
      ]
     },
     "execution_count": 21,
     "metadata": {},
     "output_type": "execute_result"
    }
   ],
   "source": [
    "olympics['Season'].unique()"
   ]
  },
  {
   "cell_type": "code",
   "execution_count": 22,
   "id": "26d9995b",
   "metadata": {},
   "outputs": [
    {
     "data": {
      "text/plain": [
       "array([1896, 1900, 1904, 1906, 1908, 1912, 1920, 1924, 1928, 1932, 1936,\n",
       "       1948, 1952, 1956, 1960, 1964, 1968, 1972, 1976, 1980, 1984, 1988,\n",
       "       1992, 1994, 1996, 1998, 2000, 2002, 2004, 2006, 2008, 2010, 2012,\n",
       "       2014, 2016], dtype=int64)"
      ]
     },
     "execution_count": 22,
     "metadata": {},
     "output_type": "execute_result"
    }
   ],
   "source": [
    " # olympic years:\n",
    "olympic_years=olympics[\"Year\"].unique()\n",
    "olympic_years.sort()\n",
    "olympic_years"
   ]
  },
  {
   "cell_type": "code",
   "execution_count": 23,
   "id": "738efe13",
   "metadata": {},
   "outputs": [],
   "source": [
    "# game feature:\n",
    "game=olympics[\"Games\"].unique()\n",
    "game.sort()"
   ]
  },
  {
   "cell_type": "code",
   "execution_count": 24,
   "id": "52bdd025",
   "metadata": {},
   "outputs": [
    {
     "data": {
      "text/plain": [
       "array(['1992 Summer', '2012 Summer', '1920 Summer', '1900 Summer',\n",
       "       '1988 Winter', '1992 Winter', '1994 Winter', '1932 Summer',\n",
       "       '2002 Winter', '1952 Summer', '1980 Winter', '2000 Summer',\n",
       "       '1996 Summer', '1912 Summer', '1924 Summer', '2014 Winter',\n",
       "       '1948 Summer', '1998 Winter', '2006 Winter', '2008 Summer',\n",
       "       '2016 Summer', '2004 Summer', '1960 Winter', '1964 Winter',\n",
       "       '1984 Winter', '1984 Summer', '1968 Summer', '1972 Summer',\n",
       "       '1988 Summer', '1936 Summer', '1952 Winter', '1956 Winter',\n",
       "       '1956 Summer', '1960 Summer', '1928 Summer', '1976 Summer',\n",
       "       '1980 Summer', '1964 Summer', '2010 Winter', '1968 Winter',\n",
       "       '1906 Summer', '1972 Winter', '1976 Winter', '1924 Winter',\n",
       "       '1904 Summer', '1928 Winter', '1908 Summer', '1948 Winter',\n",
       "       '1932 Winter', '1936 Winter', '1896 Summer'], dtype=object)"
      ]
     },
     "execution_count": 24,
     "metadata": {},
     "output_type": "execute_result"
    }
   ],
   "source": [
    "olympics[\"Games\"].unique()"
   ]
  },
  {
   "cell_type": "code",
   "execution_count": 25,
   "id": "21539af6",
   "metadata": {},
   "outputs": [
    {
     "data": {
      "text/plain": [
       "0         229959\n",
       "Gold       13369\n",
       "Bronze     13295\n",
       "Silver     13108\n",
       "Name: Medal, dtype: int64"
      ]
     },
     "execution_count": 25,
     "metadata": {},
     "output_type": "execute_result"
    }
   ],
   "source": [
    "olympics['Medal'].value_counts()"
   ]
  },
  {
   "cell_type": "code",
   "execution_count": 26,
   "id": "8c7ee236",
   "metadata": {},
   "outputs": [
    {
     "data": {
      "text/html": [
       "<div>\n",
       "<style scoped>\n",
       "    .dataframe tbody tr th:only-of-type {\n",
       "        vertical-align: middle;\n",
       "    }\n",
       "\n",
       "    .dataframe tbody tr th {\n",
       "        vertical-align: top;\n",
       "    }\n",
       "\n",
       "    .dataframe thead th {\n",
       "        text-align: right;\n",
       "    }\n",
       "</style>\n",
       "<table border=\"1\" class=\"dataframe\">\n",
       "  <thead>\n",
       "    <tr style=\"text-align: right;\">\n",
       "      <th></th>\n",
       "      <th>Year</th>\n",
       "      <th>Season</th>\n",
       "      <th>City</th>\n",
       "      <th>ID</th>\n",
       "    </tr>\n",
       "  </thead>\n",
       "  <tbody>\n",
       "    <tr>\n",
       "      <th>0</th>\n",
       "      <td>1896</td>\n",
       "      <td>Summer</td>\n",
       "      <td>Athina</td>\n",
       "      <td>176</td>\n",
       "    </tr>\n",
       "    <tr>\n",
       "      <th>1</th>\n",
       "      <td>1900</td>\n",
       "      <td>Summer</td>\n",
       "      <td>Paris</td>\n",
       "      <td>1224</td>\n",
       "    </tr>\n",
       "    <tr>\n",
       "      <th>2</th>\n",
       "      <td>1904</td>\n",
       "      <td>Summer</td>\n",
       "      <td>St. Louis</td>\n",
       "      <td>650</td>\n",
       "    </tr>\n",
       "    <tr>\n",
       "      <th>3</th>\n",
       "      <td>1906</td>\n",
       "      <td>Summer</td>\n",
       "      <td>Athina</td>\n",
       "      <td>841</td>\n",
       "    </tr>\n",
       "    <tr>\n",
       "      <th>4</th>\n",
       "      <td>1908</td>\n",
       "      <td>Summer</td>\n",
       "      <td>London</td>\n",
       "      <td>2024</td>\n",
       "    </tr>\n",
       "  </tbody>\n",
       "</table>\n",
       "</div>"
      ],
      "text/plain": [
       "   Year  Season       City    ID\n",
       "0  1896  Summer     Athina   176\n",
       "1  1900  Summer      Paris  1224\n",
       "2  1904  Summer  St. Louis   650\n",
       "3  1906  Summer     Athina   841\n",
       "4  1908  Summer     London  2024"
      ]
     },
     "execution_count": 26,
     "metadata": {},
     "output_type": "execute_result"
    }
   ],
   "source": [
    "# years, season, city, athlete number:\n",
    "all_seasons=olympics.groupby(['Year','Season','City'])['ID'].nunique().reset_index()\n",
    "all_seasons.head(5)"
   ]
  },
  {
   "cell_type": "code",
   "execution_count": 27,
   "id": "920b7bea",
   "metadata": {},
   "outputs": [
    {
     "data": {
      "text/plain": [
       "52"
      ]
     },
     "execution_count": 27,
     "metadata": {},
     "output_type": "execute_result"
    }
   ],
   "source": [
    "len(all_seasons)"
   ]
  },
  {
   "cell_type": "code",
   "execution_count": 28,
   "id": "bd5eb72c",
   "metadata": {},
   "outputs": [
    {
     "ename": "TypeError",
     "evalue": "unhashable type: 'numpy.ndarray'",
     "output_type": "error",
     "traceback": [
      "\u001b[1;31m---------------------------------------------------------------------------\u001b[0m",
      "\u001b[1;31mTypeError\u001b[0m                                 Traceback (most recent call last)",
      "File \u001b[1;32mpandas\\_libs\\hashtable_class_helper.pxi:5231\u001b[0m, in \u001b[0;36mpandas._libs.hashtable.PyObjectHashTable.map_locations\u001b[1;34m()\u001b[0m\n",
      "\u001b[1;31mTypeError\u001b[0m: unhashable type: 'numpy.ndarray'"
     ]
    },
    {
     "name": "stderr",
     "output_type": "stream",
     "text": [
      "Exception ignored in: 'pandas._libs.index.IndexEngine._call_map_locations'\n",
      "Traceback (most recent call last):\n",
      "  File \"pandas\\_libs\\hashtable_class_helper.pxi\", line 5231, in pandas._libs.hashtable.PyObjectHashTable.map_locations\n",
      "TypeError: unhashable type: 'numpy.ndarray'\n"
     ]
    },
    {
     "data": {
      "text/plain": [
       "[Athina]       3\n",
       "[London]       3\n",
       "[Stockholm]    2\n",
       "[Paris]        2\n",
       "[Innsbruck]    2\n",
       "Name: City, dtype: int64"
      ]
     },
     "execution_count": 28,
     "metadata": {},
     "output_type": "execute_result"
    }
   ],
   "source": [
    " olympics.groupby(['Year','City'])['City'].unique().value_counts().head(5)"
   ]
  },
  {
   "cell_type": "code",
   "execution_count": 29,
   "id": "141c60f8",
   "metadata": {},
   "outputs": [
    {
     "data": {
      "text/plain": [
       "Year  Sex\n",
       "1896  M       176\n",
       "1900  F        23\n",
       "      M      1201\n",
       "1904  F         6\n",
       "      M       644\n",
       "Name: ID, dtype: int64"
      ]
     },
     "execution_count": 29,
     "metadata": {},
     "output_type": "execute_result"
    }
   ],
   "source": [
    "olympics.groupby(['Year','Sex'])['ID'].nunique().head()"
   ]
  },
  {
   "cell_type": "code",
   "execution_count": 30,
   "id": "37ce14a3",
   "metadata": {},
   "outputs": [],
   "source": [
    " ath_number=olympics.groupby(['Year'])['ID'].nunique()"
   ]
  },
  {
   "cell_type": "code",
   "execution_count": 31,
   "id": "d7b25a53",
   "metadata": {},
   "outputs": [
    {
     "data": {
      "image/png": "[encoded data removed]",
      "text/plain": [
       "<Figure size 1000x300 with 1 Axes>"
      ]
     },
     "metadata": {},
     "output_type": "display_data"
    }
   ],
   "source": [
    " ath_number.plot(kind='bar', figsize=(10,3))\n",
    " plt.title('Atheletes Number By Season',color='red')\n",
    " plt.xlabel('Year',color='green')\n",
    " plt.ylabel('Atheltes Number',color='green')\n",
    " plt.show()"
   ]
  },
  {
   "cell_type": "code",
   "execution_count": 33,
   "id": "688effd8",
   "metadata": {},
   "outputs": [
    {
     "data": {
      "image/png": "[encoded data removed]",
      "text/plain": [
       "<Figure size 1000x300 with 1 Axes>"
      ]
     },
     "metadata": {},
     "output_type": "display_data"
    }
   ],
   "source": [
    "ath_number.plot(kind='line', figsize=(10,3))\n",
    "plt.title('Atheletes Number By Season',color='red')\n",
    "plt.xlabel('Year',color='green')\n",
    "plt.ylabel('Atheltes Number',color='green')\n",
    "plt.show()"
   ]
  },
  {
   "cell_type": "code",
   "execution_count": 35,
   "id": "f0b88893",
   "metadata": {},
   "outputs": [
    {
     "data": {
      "text/plain": [
       "Year  Season  City          \n",
       "2016  Summer  Rio de Janeiro    11179\n",
       "Name: ID, dtype: int64"
      ]
     },
     "execution_count": 35,
     "metadata": {},
     "output_type": "execute_result"
    }
   ],
   "source": [
    "highest_number=olympics.groupby(['Year','Season','City'])['ID'].nunique().sort_values(ascending=False).head(1)\n",
    "highest_number"
   ]
  },
  {
   "cell_type": "code",
   "execution_count": 36,
   "id": "b72d65e6",
   "metadata": {},
   "outputs": [
    {
     "data": {
      "text/plain": [
       "Year  Season  City     \n",
       "1956  Summer  Stockholm    158\n",
       "Name: ID, dtype: int64"
      ]
     },
     "execution_count": 36,
     "metadata": {},
     "output_type": "execute_result"
    }
   ],
   "source": [
    "lowest_number=olympics.groupby(['Year','Season','City'])['ID'].nunique().sort_values().head(1)\n",
    "lowest_number"
   ]
  },
  {
   "cell_type": "code",
   "execution_count": 37,
   "id": "306b9002",
   "metadata": {},
   "outputs": [
    {
     "data": {
      "text/plain": [
       "NOC\n",
       "USA    18604\n",
       "FRA    12551\n",
       "GBR    12115\n",
       "ITA    10668\n",
       "GER     9734\n",
       "Name: Medal, dtype: int64"
      ]
     },
     "execution_count": 37,
     "metadata": {},
     "output_type": "execute_result"
    }
   ],
   "source": [
    "country_most_medals=olympics.groupby(['NOC'])['Medal'].count().sort_values(ascending=False).head(5)\n",
    "country_most_medals"
   ]
  },
  {
   "cell_type": "code",
   "execution_count": 42,
   "id": "aa2fba92",
   "metadata": {},
   "outputs": [
    {
     "data": {
      "image/png": "[encoded data removed]",
      "text/plain": [
       "<Figure size 500x300 with 1 Axes>"
      ]
     },
     "metadata": {},
     "output_type": "display_data"
    }
   ],
   "source": [
    "country_most_medals=olympics.groupby(['NOC'])['Medal'].count().sort_values(ascending=False).head(10)\n",
    "country_most_medals.plot(kind='bar', figsize=(5,3))\n",
    "plt.title('Country wise Medals',color='red')\n",
    "plt.xlabel('Country',color='green')\n",
    "plt.ylabel('Medals',color='green')\n",
    "plt.show()"
   ]
  },
  {
   "cell_type": "code",
   "execution_count": 46,
   "id": "355f3517",
   "metadata": {},
   "outputs": [
    {
     "data": {
      "text/plain": [
       "Year  NOC  Season\n",
       "1896  AUS  Summer      2\n",
       "      AUT  Summer      2\n",
       "      DEN  Summer      1\n",
       "      FRA  Summer      5\n",
       "      GBR  Summer      3\n",
       "                    ... \n",
       "2016  TUR  Summer      1\n",
       "      UKR  Summer      2\n",
       "      USA  Summer    139\n",
       "      UZB  Summer      4\n",
       "      VIE  Summer      1\n",
       "Name: Medal, Length: 1112, dtype: int64"
      ]
     },
     "execution_count": 46,
     "metadata": {},
     "output_type": "execute_result"
    }
   ],
   "source": [
    "country_most_gold_medals = olympics[olympics['Medal']=='Gold'].groupby(['Year','NOC','Season'])['Medal'].count()\n",
    "country_most_gold_medals"
   ]
  },
  {
   "cell_type": "code",
   "execution_count": 48,
   "id": "ef208e31",
   "metadata": {},
   "outputs": [
    {
     "data": {
      "text/html": [
       "<div>\n",
       "<style scoped>\n",
       "    .dataframe tbody tr th:only-of-type {\n",
       "        vertical-align: middle;\n",
       "    }\n",
       "\n",
       "    .dataframe tbody tr th {\n",
       "        vertical-align: top;\n",
       "    }\n",
       "\n",
       "    .dataframe thead tr th {\n",
       "        text-align: left;\n",
       "    }\n",
       "\n",
       "    .dataframe thead tr:last-of-type th {\n",
       "        text-align: right;\n",
       "    }\n",
       "</style>\n",
       "<table border=\"1\" class=\"dataframe\">\n",
       "  <thead>\n",
       "    <tr>\n",
       "      <th></th>\n",
       "      <th></th>\n",
       "      <th>Age</th>\n",
       "      <th>Height</th>\n",
       "      <th>Weight</th>\n",
       "    </tr>\n",
       "    <tr>\n",
       "      <th></th>\n",
       "      <th></th>\n",
       "      <th>mean</th>\n",
       "      <th>mean</th>\n",
       "      <th>mean</th>\n",
       "    </tr>\n",
       "    <tr>\n",
       "      <th>Sport</th>\n",
       "      <th>Sex</th>\n",
       "      <th></th>\n",
       "      <th></th>\n",
       "      <th></th>\n",
       "    </tr>\n",
       "  </thead>\n",
       "  <tbody>\n",
       "    <tr>\n",
       "      <th>Aeronautics</th>\n",
       "      <th>M</th>\n",
       "      <td>26.000000</td>\n",
       "      <td>175.000000</td>\n",
       "      <td>70.701778</td>\n",
       "    </tr>\n",
       "    <tr>\n",
       "      <th rowspan=\"2\" valign=\"top\">Alpine Skiing</th>\n",
       "      <th>F</th>\n",
       "      <td>22.334609</td>\n",
       "      <td>168.960859</td>\n",
       "      <td>64.521633</td>\n",
       "    </tr>\n",
       "    <tr>\n",
       "      <th>M</th>\n",
       "      <td>23.761738</td>\n",
       "      <td>176.999632</td>\n",
       "      <td>76.166028</td>\n",
       "    </tr>\n",
       "    <tr>\n",
       "      <th rowspan=\"2\" valign=\"top\">Alpinism</th>\n",
       "      <th>F</th>\n",
       "      <td>43.000000</td>\n",
       "      <td>175.000000</td>\n",
       "      <td>70.701778</td>\n",
       "    </tr>\n",
       "    <tr>\n",
       "      <th>M</th>\n",
       "      <td>33.083333</td>\n",
       "      <td>175.000000</td>\n",
       "      <td>70.701778</td>\n",
       "    </tr>\n",
       "    <tr>\n",
       "      <th>...</th>\n",
       "      <th>...</th>\n",
       "      <td>...</td>\n",
       "      <td>...</td>\n",
       "      <td>...</td>\n",
       "    </tr>\n",
       "    <tr>\n",
       "      <th>Water Polo</th>\n",
       "      <th>M</th>\n",
       "      <td>25.633115</td>\n",
       "      <td>183.083383</td>\n",
       "      <td>82.024537</td>\n",
       "    </tr>\n",
       "    <tr>\n",
       "      <th rowspan=\"2\" valign=\"top\">Weightlifting</th>\n",
       "      <th>F</th>\n",
       "      <td>24.028078</td>\n",
       "      <td>160.561555</td>\n",
       "      <td>67.724622</td>\n",
       "    </tr>\n",
       "    <tr>\n",
       "      <th>M</th>\n",
       "      <td>25.609384</td>\n",
       "      <td>170.711572</td>\n",
       "      <td>79.883431</td>\n",
       "    </tr>\n",
       "    <tr>\n",
       "      <th rowspan=\"2\" valign=\"top\">Wrestling</th>\n",
       "      <th>F</th>\n",
       "      <td>25.305921</td>\n",
       "      <td>163.865132</td>\n",
       "      <td>60.587835</td>\n",
       "    </tr>\n",
       "    <tr>\n",
       "      <th>M</th>\n",
       "      <td>25.691241</td>\n",
       "      <td>173.432701</td>\n",
       "      <td>74.863195</td>\n",
       "    </tr>\n",
       "  </tbody>\n",
       "</table>\n",
       "<p>116 rows × 3 columns</p>\n",
       "</div>"
      ],
      "text/plain": [
       "                         Age      Height     Weight\n",
       "                        mean        mean       mean\n",
       "Sport         Sex                                  \n",
       "Aeronautics   M    26.000000  175.000000  70.701778\n",
       "Alpine Skiing F    22.334609  168.960859  64.521633\n",
       "              M    23.761738  176.999632  76.166028\n",
       "Alpinism      F    43.000000  175.000000  70.701778\n",
       "              M    33.083333  175.000000  70.701778\n",
       "...                      ...         ...        ...\n",
       "Water Polo    M    25.633115  183.083383  82.024537\n",
       "Weightlifting F    24.028078  160.561555  67.724622\n",
       "              M    25.609384  170.711572  79.883431\n",
       "Wrestling     F    25.305921  163.865132  60.587835\n",
       "              M    25.691241  173.432701  74.863195\n",
       "\n",
       "[116 rows x 3 columns]"
      ]
     },
     "execution_count": 48,
     "metadata": {},
     "output_type": "execute_result"
    }
   ],
   "source": [
    "athl_avg_age_w_h=olympics.groupby(['Sport','Sex']).agg({'Age':['mean'],'Height':['mean'],'Weight':['mean']}).sort_values(by='Sport')\n",
    "athl_avg_age_w_h"
   ]
  },
  {
   "cell_type": "code",
   "execution_count": 50,
   "id": "0a3022c9",
   "metadata": {},
   "outputs": [
    {
     "data": {
      "text/plain": [
       "Year  Sport       Event                        City          \n",
       "2002  Ice Hockey  Ice Hockey Men's Ice Hockey  Salt Lake City    312\n",
       "Name: ID, dtype: int64"
      ]
     },
     "execution_count": 50,
     "metadata": {},
     "output_type": "execute_result"
    }
   ],
   "source": [
    "popular_event=olympics.groupby(['Year','Sport','Event','City'])['ID'].nunique().sort_values(ascending=False).head(1)\n",
    "popular_event"
   ]
  },
  {
   "cell_type": "code",
   "execution_count": 54,
   "id": "b90cd384",
   "metadata": {},
   "outputs": [
    {
     "data": {
      "text/html": [
       "<div>\n",
       "<style scoped>\n",
       "    .dataframe tbody tr th:only-of-type {\n",
       "        vertical-align: middle;\n",
       "    }\n",
       "\n",
       "    .dataframe tbody tr th {\n",
       "        vertical-align: top;\n",
       "    }\n",
       "\n",
       "    .dataframe thead th {\n",
       "        text-align: right;\n",
       "    }\n",
       "</style>\n",
       "<table border=\"1\" class=\"dataframe\">\n",
       "  <thead>\n",
       "    <tr style=\"text-align: right;\">\n",
       "      <th></th>\n",
       "      <th>ID</th>\n",
       "      <th>Name</th>\n",
       "      <th>Sex</th>\n",
       "      <th>Age</th>\n",
       "      <th>Height</th>\n",
       "      <th>Weight</th>\n",
       "      <th>Team</th>\n",
       "      <th>NOC</th>\n",
       "      <th>Games</th>\n",
       "      <th>Year</th>\n",
       "      <th>Season</th>\n",
       "      <th>City</th>\n",
       "      <th>Sport</th>\n",
       "      <th>Event</th>\n",
       "      <th>Medal</th>\n",
       "    </tr>\n",
       "  </thead>\n",
       "  <tbody>\n",
       "    <tr>\n",
       "      <th>28</th>\n",
       "      <td>9</td>\n",
       "      <td>Antti Sami Aalto</td>\n",
       "      <td>M</td>\n",
       "      <td>26.0</td>\n",
       "      <td>186.0</td>\n",
       "      <td>96.0</td>\n",
       "      <td>Finland</td>\n",
       "      <td>FIN</td>\n",
       "      <td>2002 Winter</td>\n",
       "      <td>2002</td>\n",
       "      <td>Winter</td>\n",
       "      <td>Salt Lake City</td>\n",
       "      <td>Ice Hockey</td>\n",
       "      <td>Ice Hockey Men's Ice Hockey</td>\n",
       "      <td>0</td>\n",
       "    </tr>\n",
       "    <tr>\n",
       "      <th>1050</th>\n",
       "      <td>586</td>\n",
       "      <td>Tobias Abstreiter</td>\n",
       "      <td>M</td>\n",
       "      <td>31.0</td>\n",
       "      <td>178.0</td>\n",
       "      <td>85.0</td>\n",
       "      <td>Germany</td>\n",
       "      <td>GER</td>\n",
       "      <td>2002 Winter</td>\n",
       "      <td>2002</td>\n",
       "      <td>Winter</td>\n",
       "      <td>Salt Lake City</td>\n",
       "      <td>Ice Hockey</td>\n",
       "      <td>Ice Hockey Men's Ice Hockey</td>\n",
       "      <td>0</td>\n",
       "    </tr>\n",
       "    <tr>\n",
       "      <th>1896</th>\n",
       "      <td>1044</td>\n",
       "      <td>David Aebischer</td>\n",
       "      <td>M</td>\n",
       "      <td>24.0</td>\n",
       "      <td>186.0</td>\n",
       "      <td>85.0</td>\n",
       "      <td>Switzerland</td>\n",
       "      <td>SUI</td>\n",
       "      <td>2002 Winter</td>\n",
       "      <td>2002</td>\n",
       "      <td>Winter</td>\n",
       "      <td>Salt Lake City</td>\n",
       "      <td>Ice Hockey</td>\n",
       "      <td>Ice Hockey Men's Ice Hockey</td>\n",
       "      <td>0</td>\n",
       "    </tr>\n",
       "    <tr>\n",
       "      <th>1926</th>\n",
       "      <td>1062</td>\n",
       "      <td>Jean-Jacques Aeschlimann</td>\n",
       "      <td>M</td>\n",
       "      <td>34.0</td>\n",
       "      <td>186.0</td>\n",
       "      <td>86.0</td>\n",
       "      <td>Switzerland</td>\n",
       "      <td>SUI</td>\n",
       "      <td>2002 Winter</td>\n",
       "      <td>2002</td>\n",
       "      <td>Winter</td>\n",
       "      <td>Salt Lake City</td>\n",
       "      <td>Ice Hockey</td>\n",
       "      <td>Ice Hockey Men's Ice Hockey</td>\n",
       "      <td>0</td>\n",
       "    </tr>\n",
       "    <tr>\n",
       "      <th>1962</th>\n",
       "      <td>1085</td>\n",
       "      <td>Maksim Sergeyevich Afinogenov</td>\n",
       "      <td>M</td>\n",
       "      <td>22.0</td>\n",
       "      <td>183.0</td>\n",
       "      <td>88.0</td>\n",
       "      <td>Russia</td>\n",
       "      <td>RUS</td>\n",
       "      <td>2002 Winter</td>\n",
       "      <td>2002</td>\n",
       "      <td>Winter</td>\n",
       "      <td>Salt Lake City</td>\n",
       "      <td>Ice Hockey</td>\n",
       "      <td>Ice Hockey Men's Ice Hockey</td>\n",
       "      <td>Bronze</td>\n",
       "    </tr>\n",
       "    <tr>\n",
       "      <th>...</th>\n",
       "      <td>...</td>\n",
       "      <td>...</td>\n",
       "      <td>...</td>\n",
       "      <td>...</td>\n",
       "      <td>...</td>\n",
       "      <td>...</td>\n",
       "      <td>...</td>\n",
       "      <td>...</td>\n",
       "      <td>...</td>\n",
       "      <td>...</td>\n",
       "      <td>...</td>\n",
       "      <td>...</td>\n",
       "      <td>...</td>\n",
       "      <td>...</td>\n",
       "      <td>...</td>\n",
       "    </tr>\n",
       "    <tr>\n",
       "      <th>112502</th>\n",
       "      <td>56971</td>\n",
       "      <td>Dieter Kalt, Jr.</td>\n",
       "      <td>M</td>\n",
       "      <td>27.0</td>\n",
       "      <td>175.0</td>\n",
       "      <td>83.0</td>\n",
       "      <td>Austria</td>\n",
       "      <td>AUT</td>\n",
       "      <td>2002 Winter</td>\n",
       "      <td>2002</td>\n",
       "      <td>Winter</td>\n",
       "      <td>Salt Lake City</td>\n",
       "      <td>Ice Hockey</td>\n",
       "      <td>Ice Hockey Men's Ice Hockey</td>\n",
       "      <td>0</td>\n",
       "    </tr>\n",
       "    <tr>\n",
       "      <th>112539</th>\n",
       "      <td>56993</td>\n",
       "      <td>Aleksey Nikolayevich Kalyuzhny</td>\n",
       "      <td>M</td>\n",
       "      <td>24.0</td>\n",
       "      <td>178.0</td>\n",
       "      <td>79.0</td>\n",
       "      <td>Belarus</td>\n",
       "      <td>BLR</td>\n",
       "      <td>2002 Winter</td>\n",
       "      <td>2002</td>\n",
       "      <td>Winter</td>\n",
       "      <td>Salt Lake City</td>\n",
       "      <td>Ice Hockey</td>\n",
       "      <td>Ice Hockey Men's Ice Hockey</td>\n",
       "      <td>0</td>\n",
       "    </tr>\n",
       "    <tr>\n",
       "      <th>113268</th>\n",
       "      <td>57372</td>\n",
       "      <td>Richard Kapu</td>\n",
       "      <td>M</td>\n",
       "      <td>29.0</td>\n",
       "      <td>182.0</td>\n",
       "      <td>92.0</td>\n",
       "      <td>Slovakia</td>\n",
       "      <td>SVK</td>\n",
       "      <td>2002 Winter</td>\n",
       "      <td>2002</td>\n",
       "      <td>Winter</td>\n",
       "      <td>Salt Lake City</td>\n",
       "      <td>Ice Hockey</td>\n",
       "      <td>Ice Hockey Men's Ice Hockey</td>\n",
       "      <td>0</td>\n",
       "    </tr>\n",
       "    <tr>\n",
       "      <th>113910</th>\n",
       "      <td>57700</td>\n",
       "      <td>Ihor Vasylovych Karpenko</td>\n",
       "      <td>M</td>\n",
       "      <td>25.0</td>\n",
       "      <td>172.0</td>\n",
       "      <td>77.0</td>\n",
       "      <td>Ukraine</td>\n",
       "      <td>UKR</td>\n",
       "      <td>2002 Winter</td>\n",
       "      <td>2002</td>\n",
       "      <td>Winter</td>\n",
       "      <td>Salt Lake City</td>\n",
       "      <td>Ice Hockey</td>\n",
       "      <td>Ice Hockey Men's Ice Hockey</td>\n",
       "      <td>0</td>\n",
       "    </tr>\n",
       "    <tr>\n",
       "      <th>114315</th>\n",
       "      <td>57893</td>\n",
       "      <td>Peter Kasper</td>\n",
       "      <td>M</td>\n",
       "      <td>27.0</td>\n",
       "      <td>183.0</td>\n",
       "      <td>88.0</td>\n",
       "      <td>Austria</td>\n",
       "      <td>AUT</td>\n",
       "      <td>2002 Winter</td>\n",
       "      <td>2002</td>\n",
       "      <td>Winter</td>\n",
       "      <td>Salt Lake City</td>\n",
       "      <td>Ice Hockey</td>\n",
       "      <td>Ice Hockey Men's Ice Hockey</td>\n",
       "      <td>0</td>\n",
       "    </tr>\n",
       "  </tbody>\n",
       "</table>\n",
       "<p>70 rows × 15 columns</p>\n",
       "</div>"
      ],
      "text/plain": [
       "           ID                            Name Sex   Age  Height  Weight  \\\n",
       "28          9                Antti Sami Aalto   M  26.0   186.0    96.0   \n",
       "1050      586               Tobias Abstreiter   M  31.0   178.0    85.0   \n",
       "1896     1044                 David Aebischer   M  24.0   186.0    85.0   \n",
       "1926     1062        Jean-Jacques Aeschlimann   M  34.0   186.0    86.0   \n",
       "1962     1085   Maksim Sergeyevich Afinogenov   M  22.0   183.0    88.0   \n",
       "...       ...                             ...  ..   ...     ...     ...   \n",
       "112502  56971                Dieter Kalt, Jr.   M  27.0   175.0    83.0   \n",
       "112539  56993  Aleksey Nikolayevich Kalyuzhny   M  24.0   178.0    79.0   \n",
       "113268  57372                    Richard Kapu   M  29.0   182.0    92.0   \n",
       "113910  57700        Ihor Vasylovych Karpenko   M  25.0   172.0    77.0   \n",
       "114315  57893                    Peter Kasper   M  27.0   183.0    88.0   \n",
       "\n",
       "               Team  NOC        Games  Year  Season            City  \\\n",
       "28          Finland  FIN  2002 Winter  2002  Winter  Salt Lake City   \n",
       "1050        Germany  GER  2002 Winter  2002  Winter  Salt Lake City   \n",
       "1896    Switzerland  SUI  2002 Winter  2002  Winter  Salt Lake City   \n",
       "1926    Switzerland  SUI  2002 Winter  2002  Winter  Salt Lake City   \n",
       "1962         Russia  RUS  2002 Winter  2002  Winter  Salt Lake City   \n",
       "...             ...  ...          ...   ...     ...             ...   \n",
       "112502      Austria  AUT  2002 Winter  2002  Winter  Salt Lake City   \n",
       "112539      Belarus  BLR  2002 Winter  2002  Winter  Salt Lake City   \n",
       "113268     Slovakia  SVK  2002 Winter  2002  Winter  Salt Lake City   \n",
       "113910      Ukraine  UKR  2002 Winter  2002  Winter  Salt Lake City   \n",
       "114315      Austria  AUT  2002 Winter  2002  Winter  Salt Lake City   \n",
       "\n",
       "             Sport                        Event   Medal  \n",
       "28      Ice Hockey  Ice Hockey Men's Ice Hockey       0  \n",
       "1050    Ice Hockey  Ice Hockey Men's Ice Hockey       0  \n",
       "1896    Ice Hockey  Ice Hockey Men's Ice Hockey       0  \n",
       "1926    Ice Hockey  Ice Hockey Men's Ice Hockey       0  \n",
       "1962    Ice Hockey  Ice Hockey Men's Ice Hockey  Bronze  \n",
       "...            ...                          ...     ...  \n",
       "112502  Ice Hockey  Ice Hockey Men's Ice Hockey       0  \n",
       "112539  Ice Hockey  Ice Hockey Men's Ice Hockey       0  \n",
       "113268  Ice Hockey  Ice Hockey Men's Ice Hockey       0  \n",
       "113910  Ice Hockey  Ice Hockey Men's Ice Hockey       0  \n",
       "114315  Ice Hockey  Ice Hockey Men's Ice Hockey       0  \n",
       "\n",
       "[70 rows x 15 columns]"
      ]
     },
     "execution_count": 54,
     "metadata": {},
     "output_type": "execute_result"
    }
   ],
   "source": [
    "popular_event_medals=olympics[(olympics['Year']==2002) & (olympics['Event']==\"Ice Hockey Men's Ice Hockey\")].groupby(['NOC'])\n",
    "popular_event_medals.head(5)"
   ]
  },
  {
   "cell_type": "code",
   "execution_count": 55,
   "id": "2d80a4e4",
   "metadata": {},
   "outputs": [],
   "source": [
    "# First Modern Olympic Season 1896"
   ]
  },
  {
   "cell_type": "code",
   "execution_count": 56,
   "id": "550ebbf9",
   "metadata": {},
   "outputs": [
    {
     "data": {
      "text/html": [
       "<div>\n",
       "<style scoped>\n",
       "    .dataframe tbody tr th:only-of-type {\n",
       "        vertical-align: middle;\n",
       "    }\n",
       "\n",
       "    .dataframe tbody tr th {\n",
       "        vertical-align: top;\n",
       "    }\n",
       "\n",
       "    .dataframe thead th {\n",
       "        text-align: right;\n",
       "    }\n",
       "</style>\n",
       "<table border=\"1\" class=\"dataframe\">\n",
       "  <thead>\n",
       "    <tr style=\"text-align: right;\">\n",
       "      <th></th>\n",
       "      <th>ID</th>\n",
       "      <th>Name</th>\n",
       "      <th>Sex</th>\n",
       "      <th>Age</th>\n",
       "      <th>Height</th>\n",
       "      <th>Weight</th>\n",
       "      <th>Team</th>\n",
       "      <th>NOC</th>\n",
       "      <th>Games</th>\n",
       "      <th>Year</th>\n",
       "      <th>Season</th>\n",
       "      <th>City</th>\n",
       "      <th>Sport</th>\n",
       "      <th>Event</th>\n",
       "      <th>Medal</th>\n",
       "    </tr>\n",
       "  </thead>\n",
       "  <tbody>\n",
       "    <tr>\n",
       "      <th>3079</th>\n",
       "      <td>1724</td>\n",
       "      <td>Aristidis Akratopoulos</td>\n",
       "      <td>M</td>\n",
       "      <td>24.0</td>\n",
       "      <td>175.0</td>\n",
       "      <td>70.701778</td>\n",
       "      <td>Greece</td>\n",
       "      <td>GRE</td>\n",
       "      <td>1896 Summer</td>\n",
       "      <td>1896</td>\n",
       "      <td>Summer</td>\n",
       "      <td>Athina</td>\n",
       "      <td>Tennis</td>\n",
       "      <td>Tennis Men's Singles</td>\n",
       "      <td>0</td>\n",
       "    </tr>\n",
       "    <tr>\n",
       "      <th>3080</th>\n",
       "      <td>1724</td>\n",
       "      <td>Aristidis Akratopoulos</td>\n",
       "      <td>M</td>\n",
       "      <td>24.0</td>\n",
       "      <td>175.0</td>\n",
       "      <td>70.701778</td>\n",
       "      <td>Greece-3</td>\n",
       "      <td>GRE</td>\n",
       "      <td>1896 Summer</td>\n",
       "      <td>1896</td>\n",
       "      <td>Summer</td>\n",
       "      <td>Athina</td>\n",
       "      <td>Tennis</td>\n",
       "      <td>Tennis Men's Doubles</td>\n",
       "      <td>0</td>\n",
       "    </tr>\n",
       "  </tbody>\n",
       "</table>\n",
       "</div>"
      ],
      "text/plain": [
       "        ID                    Name Sex   Age  Height     Weight      Team  \\\n",
       "3079  1724  Aristidis Akratopoulos   M  24.0   175.0  70.701778    Greece   \n",
       "3080  1724  Aristidis Akratopoulos   M  24.0   175.0  70.701778  Greece-3   \n",
       "\n",
       "      NOC        Games  Year  Season    City   Sport                 Event  \\\n",
       "3079  GRE  1896 Summer  1896  Summer  Athina  Tennis  Tennis Men's Singles   \n",
       "3080  GRE  1896 Summer  1896  Summer  Athina  Tennis  Tennis Men's Doubles   \n",
       "\n",
       "     Medal  \n",
       "3079     0  \n",
       "3080     0  "
      ]
     },
     "execution_count": 56,
     "metadata": {},
     "output_type": "execute_result"
    }
   ],
   "source": [
    "# first season data:\n",
    "first_season=olympics[olympics['Year']==1896]\n",
    "first_season.head(2)"
   ]
  },
  {
   "cell_type": "code",
   "execution_count": 58,
   "id": "d3e8b23f",
   "metadata": {},
   "outputs": [
    {
     "data": {
      "text/plain": [
       "<AxesSubplot: xlabel='Age', ylabel='Count'>"
      ]
     },
     "execution_count": 58,
     "metadata": {},
     "output_type": "execute_result"
    },
    {
     "data": {
      "image/png": "[encoded data removed]",
      "text/plain": [
       "<Figure size 640x480 with 1 Axes>"
      ]
     },
     "metadata": {},
     "output_type": "display_data"
    }
   ],
   "source": [
    "# age distribution in the first modern olymipc season\n",
    "sns.histplot(first_season['Age'],bins=30, kde=True)"
   ]
  },
  {
   "cell_type": "code",
   "execution_count": 59,
   "id": "7b499908",
   "metadata": {},
   "outputs": [
    {
     "data": {
      "text/plain": [
       "<AxesSubplot: xlabel='Height', ylabel='Count'>"
      ]
     },
     "execution_count": 59,
     "metadata": {},
     "output_type": "execute_result"
    },
    {
     "data": {
      "image/png": "[encoded data removed]",
      "text/plain": [
       "<Figure size 640x480 with 1 Axes>"
      ]
     },
     "metadata": {},
     "output_type": "display_data"
    }
   ],
   "source": [
    "# height distribution in the first modern olympic season:\n",
    "sns.histplot(first_season['Height'],bins=30, kde=True)"
   ]
  },
  {
   "cell_type": "code",
   "execution_count": 60,
   "id": "42a6773e",
   "metadata": {},
   "outputs": [
    {
     "data": {
      "text/plain": [
       "<AxesSubplot: xlabel='Weight', ylabel='Count'>"
      ]
     },
     "execution_count": 60,
     "metadata": {},
     "output_type": "execute_result"
    },
    {
     "data": {
      "image/png": "[encoded data removed]",
      "text/plain": [
       "<Figure size 640x480 with 1 Axes>"
      ]
     },
     "metadata": {},
     "output_type": "display_data"
    }
   ],
   "source": [
    "# weight distribution in the first modern olympic season:\n",
    "sns.histplot(first_season['Weight'],bins=30, kde=True)"
   ]
  },
  {
   "cell_type": "code",
   "execution_count": 61,
   "id": "a0f71a67",
   "metadata": {},
   "outputs": [
    {
     "data": {
      "text/plain": [
       "array(['GRE', 'GBR', 'SUI', 'USA', 'GER', 'FRA', 'HUN', 'AUS', 'AUT',\n",
       "       'DEN', 'ITA', 'SWE'], dtype=object)"
      ]
     },
     "execution_count": 61,
     "metadata": {},
     "output_type": "execute_result"
    }
   ],
   "source": [
    "# identify countries that participated on the first season:\n",
    "first_season['NOC'].unique()"
   ]
  },
  {
   "cell_type": "code",
   "execution_count": 62,
   "id": "cb1319c8",
   "metadata": {},
   "outputs": [
    {
     "data": {
      "text/plain": [
       "12"
      ]
     },
     "execution_count": 62,
     "metadata": {},
     "output_type": "execute_result"
    }
   ],
   "source": [
    "# number of countries that participated on the first season:\n",
    "len(first_season['NOC'].unique())"
   ]
  },
  {
   "cell_type": "code",
   "execution_count": 63,
   "id": "623a8e3d",
   "metadata": {},
   "outputs": [
    {
     "data": {
      "text/plain": [
       "176"
      ]
     },
     "execution_count": 63,
     "metadata": {},
     "output_type": "execute_result"
    }
   ],
   "source": [
    " # number of atheletes paricipated on the first season:\n",
    " first_season['ID'].nunique()"
   ]
  },
  {
   "cell_type": "code",
   "execution_count": 64,
   "id": "10869c2c",
   "metadata": {},
   "outputs": [
    {
     "data": {
      "text/plain": [
       "array(['Tennis', 'Athletics', 'Swimming', 'Gymnastics', 'Shooting',\n",
       "       'Cycling', 'Fencing', 'Weightlifting', 'Wrestling'], dtype=object)"
      ]
     },
     "execution_count": 64,
     "metadata": {},
     "output_type": "execute_result"
    }
   ],
   "source": [
    " # identify the sports held on 1896 season:\n",
    "first_season['Sport'].unique()"
   ]
  },
  {
   "cell_type": "code",
   "execution_count": 65,
   "id": "336e5af4",
   "metadata": {},
   "outputs": [
    {
     "data": {
      "text/plain": [
       "array([\"Tennis Men's Singles\", \"Tennis Men's Doubles\",\n",
       "       \"Athletics Men's 110 metres Hurdles\",\n",
       "       \"Swimming Men's 1,200 metres Freestyle\",\n",
       "       \"Gymnastics Men's Rope Climbing\",\n",
       "       \"Swimming Men's 100 metres Freestyle\",\n",
       "       \"Shooting Men's Free Rifle, Three Positions, 300 metres\",\n",
       "       \"Cycling Men's Road Race, Individual\",\n",
       "       \"Cycling Men's 333 metres Time Trial\",\n",
       "       \"Cycling Men's 100 kilometres\",\n",
       "       \"Shooting Men's Military Rifle, 200 metres\",\n",
       "       \"Athletics Men's Marathon\", \"Athletics Men's 1,500 metres\",\n",
       "       \"Gymnastics Men's Horse Vault\", \"Gymnastics Men's Parallel Bars\",\n",
       "       \"Gymnastics Men's Parallel Bars, Teams\",\n",
       "       \"Gymnastics Men's Horizontal Bar\",\n",
       "       \"Gymnastics Men's Horizontal Bar, Teams\", \"Gymnastics Men's Rings\",\n",
       "       \"Gymnastics Men's Pommelled Horse\", \"Athletics Men's 100 metres\",\n",
       "       \"Athletics Men's 400 metres\", \"Fencing Men's Foil, Individual\",\n",
       "       \"Athletics Men's High Jump\", \"Athletics Men's Long Jump\",\n",
       "       \"Athletics Men's Shot Put\", \"Athletics Men's Triple Jump\",\n",
       "       \"Athletics Men's Pole Vault\", \"Athletics Men's 800 metres\",\n",
       "       \"Shooting Men's Free Pistol, 30 metres\",\n",
       "       \"Shooting Men's Military Pistol, 25 metres\",\n",
       "       \"Swimming Men's 100 metres Freestyle For Sailors\",\n",
       "       \"Weightlifting Men's Unlimited, One Hand\",\n",
       "       \"Weightlifting Men's Unlimited, Two Hands\",\n",
       "       \"Wrestling Men's Unlimited Class, Greco-Roman\",\n",
       "       \"Cycling Men's Sprint\", \"Cycling Men's 10,000 metres\",\n",
       "       \"Shooting Men's Muzzle-Loading Pistol, 25 metres\",\n",
       "       \"Athletics Men's Discus Throw\", \"Fencing Men's Sabre, Individual\",\n",
       "       \"Cycling Men's 12-Hours Race\",\n",
       "       \"Swimming Men's 500 metres Freestyle\",\n",
       "       \"Fencing Men's Foil, Masters, Individual\"], dtype=object)"
      ]
     },
     "execution_count": 65,
     "metadata": {},
     "output_type": "execute_result"
    }
   ],
   "source": [
    "# identify the  sports events held on 1896 season:\n",
    "first_season['Event'].unique()"
   ]
  },
  {
   "cell_type": "code",
   "execution_count": 67,
   "id": "d792b3d8",
   "metadata": {},
   "outputs": [
    {
     "data": {
      "text/plain": [
       "43"
      ]
     },
     "execution_count": 67,
     "metadata": {},
     "output_type": "execute_result"
    }
   ],
   "source": [
    "# identify the  sports events held on 1896 season number:\n",
    "len(first_season['Event'].unique())"
   ]
  },
  {
   "cell_type": "code",
   "execution_count": 68,
   "id": "483a0331",
   "metadata": {},
   "outputs": [
    {
     "data": {
      "text/plain": [
       "NOC\n",
       "GRE    148\n",
       "GER     94\n",
       "USA     27\n",
       "FRA     26\n",
       "GBR     25\n",
       "HUN     18\n",
       "DEN     15\n",
       "AUT      8\n",
       "SUI      8\n",
       "AUS      5\n",
       "SWE      5\n",
       "ITA      1\n",
       "Name: Medal, dtype: int64"
      ]
     },
     "execution_count": 68,
     "metadata": {},
     "output_type": "execute_result"
    }
   ],
   "source": [
    "# country that won most  medals 1896\n",
    "country_most_medals_1896=first_season.groupby(['NOC'])['Medal'].count().sort_values(ascending=False)\n",
    "country_most_medals_1896"
   ]
  },
  {
   "cell_type": "code",
   "execution_count": 69,
   "id": "62697945",
   "metadata": {},
   "outputs": [
    {
     "data": {
      "text/plain": [
       "NOC\n",
       "GER    25\n",
       "USA    11\n",
       "GRE    10\n",
       "FRA     5\n",
       "GBR     3\n",
       "AUS     2\n",
       "AUT     2\n",
       "HUN     2\n",
       "DEN     1\n",
       "SUI     1\n",
       "Name: Medal, dtype: int64"
      ]
     },
     "execution_count": 69,
     "metadata": {},
     "output_type": "execute_result"
    }
   ],
   "source": [
    "# country that won the most gold medals 1896:\n",
    "country_most_gold_medals_1896=first_season[first_season['Medal']=='Gold'].groupby(['NOC'])['Medal'].count().sort_values(ascending=False)\n",
    "country_most_gold_medals_1896"
   ]
  },
  {
   "cell_type": "code",
   "execution_count": 71,
   "id": "50146cfd",
   "metadata": {},
   "outputs": [
    {
     "data": {
      "text/html": [
       "<div>\n",
       "<style scoped>\n",
       "    .dataframe tbody tr th:only-of-type {\n",
       "        vertical-align: middle;\n",
       "    }\n",
       "\n",
       "    .dataframe tbody tr th {\n",
       "        vertical-align: top;\n",
       "    }\n",
       "\n",
       "    .dataframe thead tr th {\n",
       "        text-align: left;\n",
       "    }\n",
       "\n",
       "    .dataframe thead tr:last-of-type th {\n",
       "        text-align: right;\n",
       "    }\n",
       "</style>\n",
       "<table border=\"1\" class=\"dataframe\">\n",
       "  <thead>\n",
       "    <tr>\n",
       "      <th></th>\n",
       "      <th></th>\n",
       "      <th>Age</th>\n",
       "      <th>Height</th>\n",
       "      <th>Weight</th>\n",
       "    </tr>\n",
       "    <tr>\n",
       "      <th></th>\n",
       "      <th></th>\n",
       "      <th>mean</th>\n",
       "      <th>mean</th>\n",
       "      <th>mean</th>\n",
       "    </tr>\n",
       "    <tr>\n",
       "      <th>Sport</th>\n",
       "      <th>Sex</th>\n",
       "      <th></th>\n",
       "      <th></th>\n",
       "      <th></th>\n",
       "    </tr>\n",
       "  </thead>\n",
       "  <tbody>\n",
       "    <tr>\n",
       "      <th>Athletics</th>\n",
       "      <th>M</th>\n",
       "      <td>22.981132</td>\n",
       "      <td>174.962264</td>\n",
       "      <td>70.528650</td>\n",
       "    </tr>\n",
       "    <tr>\n",
       "      <th>Cycling</th>\n",
       "      <th>M</th>\n",
       "      <td>23.414634</td>\n",
       "      <td>175.000000</td>\n",
       "      <td>70.701778</td>\n",
       "    </tr>\n",
       "    <tr>\n",
       "      <th>Fencing</th>\n",
       "      <th>M</th>\n",
       "      <td>23.066667</td>\n",
       "      <td>175.000000</td>\n",
       "      <td>70.701778</td>\n",
       "    </tr>\n",
       "    <tr>\n",
       "      <th>Gymnastics</th>\n",
       "      <th>M</th>\n",
       "      <td>24.216495</td>\n",
       "      <td>173.896907</td>\n",
       "      <td>70.283977</td>\n",
       "    </tr>\n",
       "    <tr>\n",
       "      <th>Shooting</th>\n",
       "      <th>M</th>\n",
       "      <td>25.953846</td>\n",
       "      <td>175.000000</td>\n",
       "      <td>70.701778</td>\n",
       "    </tr>\n",
       "    <tr>\n",
       "      <th>Swimming</th>\n",
       "      <th>M</th>\n",
       "      <td>21.944444</td>\n",
       "      <td>175.000000</td>\n",
       "      <td>70.701778</td>\n",
       "    </tr>\n",
       "    <tr>\n",
       "      <th>Tennis</th>\n",
       "      <th>M</th>\n",
       "      <td>22.130435</td>\n",
       "      <td>175.000000</td>\n",
       "      <td>70.701778</td>\n",
       "    </tr>\n",
       "    <tr>\n",
       "      <th>Weightlifting</th>\n",
       "      <th>M</th>\n",
       "      <td>22.900000</td>\n",
       "      <td>176.000000</td>\n",
       "      <td>76.891245</td>\n",
       "    </tr>\n",
       "    <tr>\n",
       "      <th>Wrestling</th>\n",
       "      <th>M</th>\n",
       "      <td>23.600000</td>\n",
       "      <td>174.400000</td>\n",
       "      <td>76.821067</td>\n",
       "    </tr>\n",
       "  </tbody>\n",
       "</table>\n",
       "</div>"
      ],
      "text/plain": [
       "                         Age      Height     Weight\n",
       "                        mean        mean       mean\n",
       "Sport         Sex                                  \n",
       "Athletics     M    22.981132  174.962264  70.528650\n",
       "Cycling       M    23.414634  175.000000  70.701778\n",
       "Fencing       M    23.066667  175.000000  70.701778\n",
       "Gymnastics    M    24.216495  173.896907  70.283977\n",
       "Shooting      M    25.953846  175.000000  70.701778\n",
       "Swimming      M    21.944444  175.000000  70.701778\n",
       "Tennis        M    22.130435  175.000000  70.701778\n",
       "Weightlifting M    22.900000  176.000000  76.891245\n",
       "Wrestling     M    23.600000  174.400000  76.821067"
      ]
     },
     "execution_count": 71,
     "metadata": {},
     "output_type": "execute_result"
    }
   ],
   "source": [
    " # 1896 season avrg age, weight and height by sport and gender:\n",
    "athl_avg_age_w_h_1896=first_season.groupby(['Sport','Sex']).agg({'Age':['mean'],'Height':['mean'],'Weight':['mean']})\n",
    "athl_avg_age_w_h_1896"
   ]
  },
  {
   "cell_type": "code",
   "execution_count": 72,
   "id": "7fe46d91",
   "metadata": {},
   "outputs": [
    {
     "data": {
      "text/html": [
       "<div>\n",
       "<style scoped>\n",
       "    .dataframe tbody tr th:only-of-type {\n",
       "        vertical-align: middle;\n",
       "    }\n",
       "\n",
       "    .dataframe tbody tr th {\n",
       "        vertical-align: top;\n",
       "    }\n",
       "\n",
       "    .dataframe thead th {\n",
       "        text-align: right;\n",
       "    }\n",
       "</style>\n",
       "<table border=\"1\" class=\"dataframe\">\n",
       "  <thead>\n",
       "    <tr style=\"text-align: right;\">\n",
       "      <th></th>\n",
       "      <th>ID</th>\n",
       "      <th>Name</th>\n",
       "      <th>Sex</th>\n",
       "      <th>Age</th>\n",
       "      <th>Height</th>\n",
       "      <th>Weight</th>\n",
       "      <th>Team</th>\n",
       "      <th>NOC</th>\n",
       "      <th>Games</th>\n",
       "      <th>Year</th>\n",
       "      <th>Season</th>\n",
       "      <th>City</th>\n",
       "      <th>Sport</th>\n",
       "      <th>Event</th>\n",
       "      <th>Medal</th>\n",
       "    </tr>\n",
       "  </thead>\n",
       "  <tbody>\n",
       "    <tr>\n",
       "      <th>3</th>\n",
       "      <td>4</td>\n",
       "      <td>Edgar Lindenau Aabye</td>\n",
       "      <td>M</td>\n",
       "      <td>34.0</td>\n",
       "      <td>175.0</td>\n",
       "      <td>70.701778</td>\n",
       "      <td>Denmark/Sweden</td>\n",
       "      <td>DEN</td>\n",
       "      <td>1900 Summer</td>\n",
       "      <td>1900</td>\n",
       "      <td>Summer</td>\n",
       "      <td>Paris</td>\n",
       "      <td>Tug-Of-War</td>\n",
       "      <td>Tug-Of-War Men's Tug-Of-War</td>\n",
       "      <td>Gold</td>\n",
       "    </tr>\n",
       "    <tr>\n",
       "      <th>6</th>\n",
       "      <td>5</td>\n",
       "      <td>Christine Jacoba Aaftink</td>\n",
       "      <td>F</td>\n",
       "      <td>25.0</td>\n",
       "      <td>185.0</td>\n",
       "      <td>82.000000</td>\n",
       "      <td>Netherlands</td>\n",
       "      <td>NED</td>\n",
       "      <td>1992 Winter</td>\n",
       "      <td>1992</td>\n",
       "      <td>Winter</td>\n",
       "      <td>Albertville</td>\n",
       "      <td>Speed Skating</td>\n",
       "      <td>Speed Skating Women's 500 metres</td>\n",
       "      <td>0</td>\n",
       "    </tr>\n",
       "  </tbody>\n",
       "</table>\n",
       "</div>"
      ],
      "text/plain": [
       "   ID                      Name Sex   Age  Height     Weight            Team  \\\n",
       "3   4      Edgar Lindenau Aabye   M  34.0   175.0  70.701778  Denmark/Sweden   \n",
       "6   5  Christine Jacoba Aaftink   F  25.0   185.0  82.000000     Netherlands   \n",
       "\n",
       "   NOC        Games  Year  Season         City          Sport  \\\n",
       "3  DEN  1900 Summer  1900  Summer        Paris     Tug-Of-War   \n",
       "6  NED  1992 Winter  1992  Winter  Albertville  Speed Skating   \n",
       "\n",
       "                              Event Medal  \n",
       "3       Tug-Of-War Men's Tug-Of-War  Gold  \n",
       "6  Speed Skating Women's 500 metres     0  "
      ]
     },
     "execution_count": 72,
     "metadata": {},
     "output_type": "execute_result"
    }
   ],
   "source": [
    "# modern olympic seasons held by france data:\n",
    "france_olympic_host = olympics[olympics['City'].isin(['Paris', 'Grenoble', 'Chamonix', 'Albertville'])]\n",
    "france_olympic_host .head(2)"
   ]
  },
  {
   "cell_type": "code",
   "execution_count": 73,
   "id": "1ad01650",
   "metadata": {},
   "outputs": [
    {
     "data": {
      "text/plain": [
       "array(['1900 Summer', '1992 Winter', '1924 Summer', '1968 Winter',\n",
       "       '1924 Winter'], dtype=object)"
      ]
     },
     "execution_count": 73,
     "metadata": {},
     "output_type": "execute_result"
    }
   ],
   "source": [
    "# France's modern olympic seasons\n",
    "france_olympic_host['Games'].unique()"
   ]
  },
  {
   "cell_type": "code",
   "execution_count": 74,
   "id": "f9c570ca",
   "metadata": {},
   "outputs": [
    {
     "data": {
      "text/html": [
       "<div>\n",
       "<style scoped>\n",
       "    .dataframe tbody tr th:only-of-type {\n",
       "        vertical-align: middle;\n",
       "    }\n",
       "\n",
       "    .dataframe tbody tr th {\n",
       "        vertical-align: top;\n",
       "    }\n",
       "\n",
       "    .dataframe thead th {\n",
       "        text-align: right;\n",
       "    }\n",
       "</style>\n",
       "<table border=\"1\" class=\"dataframe\">\n",
       "  <thead>\n",
       "    <tr style=\"text-align: right;\">\n",
       "      <th></th>\n",
       "      <th>Year</th>\n",
       "      <th>Season</th>\n",
       "      <th>City</th>\n",
       "      <th>Sex</th>\n",
       "      <th>ID</th>\n",
       "      <th>NOC</th>\n",
       "    </tr>\n",
       "  </thead>\n",
       "  <tbody>\n",
       "    <tr>\n",
       "      <th>0</th>\n",
       "      <td>1900</td>\n",
       "      <td>Summer</td>\n",
       "      <td>Paris</td>\n",
       "      <td>F</td>\n",
       "      <td>23</td>\n",
       "      <td>6</td>\n",
       "    </tr>\n",
       "    <tr>\n",
       "      <th>1</th>\n",
       "      <td>1900</td>\n",
       "      <td>Summer</td>\n",
       "      <td>Paris</td>\n",
       "      <td>M</td>\n",
       "      <td>1201</td>\n",
       "      <td>31</td>\n",
       "    </tr>\n",
       "    <tr>\n",
       "      <th>2</th>\n",
       "      <td>1924</td>\n",
       "      <td>Summer</td>\n",
       "      <td>Paris</td>\n",
       "      <td>F</td>\n",
       "      <td>156</td>\n",
       "      <td>22</td>\n",
       "    </tr>\n",
       "    <tr>\n",
       "      <th>3</th>\n",
       "      <td>1924</td>\n",
       "      <td>Summer</td>\n",
       "      <td>Paris</td>\n",
       "      <td>M</td>\n",
       "      <td>3100</td>\n",
       "      <td>45</td>\n",
       "    </tr>\n",
       "    <tr>\n",
       "      <th>4</th>\n",
       "      <td>1924</td>\n",
       "      <td>Winter</td>\n",
       "      <td>Chamonix</td>\n",
       "      <td>F</td>\n",
       "      <td>13</td>\n",
       "      <td>8</td>\n",
       "    </tr>\n",
       "    <tr>\n",
       "      <th>5</th>\n",
       "      <td>1924</td>\n",
       "      <td>Winter</td>\n",
       "      <td>Chamonix</td>\n",
       "      <td>M</td>\n",
       "      <td>300</td>\n",
       "      <td>19</td>\n",
       "    </tr>\n",
       "    <tr>\n",
       "      <th>6</th>\n",
       "      <td>1968</td>\n",
       "      <td>Winter</td>\n",
       "      <td>Grenoble</td>\n",
       "      <td>F</td>\n",
       "      <td>211</td>\n",
       "      <td>27</td>\n",
       "    </tr>\n",
       "    <tr>\n",
       "      <th>7</th>\n",
       "      <td>1968</td>\n",
       "      <td>Winter</td>\n",
       "      <td>Grenoble</td>\n",
       "      <td>M</td>\n",
       "      <td>949</td>\n",
       "      <td>37</td>\n",
       "    </tr>\n",
       "    <tr>\n",
       "      <th>8</th>\n",
       "      <td>1992</td>\n",
       "      <td>Winter</td>\n",
       "      <td>Albertville</td>\n",
       "      <td>F</td>\n",
       "      <td>488</td>\n",
       "      <td>45</td>\n",
       "    </tr>\n",
       "    <tr>\n",
       "      <th>9</th>\n",
       "      <td>1992</td>\n",
       "      <td>Winter</td>\n",
       "      <td>Albertville</td>\n",
       "      <td>M</td>\n",
       "      <td>1313</td>\n",
       "      <td>63</td>\n",
       "    </tr>\n",
       "  </tbody>\n",
       "</table>\n",
       "</div>"
      ],
      "text/plain": [
       "   Year  Season         City Sex    ID  NOC\n",
       "0  1900  Summer        Paris   F    23    6\n",
       "1  1900  Summer        Paris   M  1201   31\n",
       "2  1924  Summer        Paris   F   156   22\n",
       "3  1924  Summer        Paris   M  3100   45\n",
       "4  1924  Winter     Chamonix   F    13    8\n",
       "5  1924  Winter     Chamonix   M   300   19\n",
       "6  1968  Winter     Grenoble   F   211   27\n",
       "7  1968  Winter     Grenoble   M   949   37\n",
       "8  1992  Winter  Albertville   F   488   45\n",
       "9  1992  Winter  Albertville   M  1313   63"
      ]
     },
     "execution_count": 74,
     "metadata": {},
     "output_type": "execute_result"
    }
   ],
   "source": [
    "# year ,season and number of participated countries, athletes by gender:\n",
    "france_olympic_host.groupby(['Year','Season','City','Sex'])[['ID','NOC']].nunique().reset_index()"
   ]
  },
  {
   "cell_type": "code",
   "execution_count": 75,
   "id": "8ed22b66",
   "metadata": {},
   "outputs": [
    {
     "data": {
      "text/plain": [
       "NOC\n",
       "FRA    1959\n",
       "USA    1004\n",
       "GBR     772\n",
       "ITA     646\n",
       "SWE     572\n",
       "Name: Medal, dtype: int64"
      ]
     },
     "execution_count": 75,
     "metadata": {},
     "output_type": "execute_result"
    }
   ],
   "source": [
    "# most medals in all French sessions olympic Games:\n",
    "france_country_most_medals=france_olympic_host.groupby(['NOC'])['Medal'].count().sort_values(ascending=False).head(5)\n",
    "france_country_most_medals"
   ]
  },
  {
   "cell_type": "code",
   "execution_count": 76,
   "id": "7591672c",
   "metadata": {},
   "outputs": [
    {
     "data": {
      "text/plain": [
       "Year  City   Sport     Event                  \n",
       "1924  Paris  Football  Football Men's Football    279\n",
       "Name: ID, dtype: int64"
      ]
     },
     "execution_count": 76,
     "metadata": {},
     "output_type": "execute_result"
    }
   ],
   "source": [
    "# popular event in france olympic games:\n",
    "france_popular_event=france_olympic_host.groupby(['Year','City','Sport','Event'])['ID'].count().sort_values(ascending=False).head(1)\n",
    "france_popular_event"
   ]
  }
 ],
 "metadata": {
  "kernelspec": {
   "display_name": "Python 3 (ipykernel)",
   "language": "python",
   "name": "python3"
  },
  "language_info": {
   "codemirror_mode": {
    "name": "ipython",
    "version": 3
   },
   "file_extension": ".py",
   "mimetype": "text/x-python",
   "name": "python",
   "nbconvert_exporter": "python",
   "pygments_lexer": "ipython3",
   "version": "3.9.7"
  }
 },
 "nbformat": 4,
 "nbformat_minor": 5
}
